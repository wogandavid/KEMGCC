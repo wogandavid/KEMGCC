{
 "cells": [
  {
   "cell_type": "markdown",
   "metadata": {},
   "source": [
    "# Analyze KEM GCC results"
   ]
  },
  {
   "cell_type": "code",
   "execution_count": null,
   "metadata": {},
   "outputs": [],
   "source": [
    "import matplotlib.pyplot as plt\n",
    "import numpy as np\n",
    "import gdxpds\n",
    "import pandas as pd\n",
    "import glob\n",
    "import plotly.express as px"
   ]
  },
  {
   "cell_type": "code",
   "execution_count": null,
   "metadata": {},
   "outputs": [],
   "source": [
    "%matplotlib inline"
   ]
  },
  {
   "cell_type": "markdown",
   "metadata": {},
   "source": [
    "### read in Summary GDX files"
   ]
  },
  {
   "cell_type": "code",
   "execution_count": null,
   "metadata": {},
   "outputs": [],
   "source": [
    "#files = glob.glob('../results/for-post/results_0*.gdx')\n",
    "files = ['../results/for-post/results_A.gdx',\n",
    "         '../results/for-post/results_B.gdx',\n",
    "         '../results/for-post/results_C.gdx',\n",
    "         '../results/for-post/results_D.gdx',\n",
    "         '../results/for-post/results_E.gdx',\n",
    "         '../results/for-post/results_F.gdx',\n",
    "         '../results/for-post/results_G.gdx',\n",
    "         '../results/for-post/results_H.gdx']"
   ]
  },
  {
   "cell_type": "code",
   "execution_count": null,
   "metadata": {},
   "outputs": [],
   "source": [
    "scenarios = ['A','B','C','D','E','F','G','H']\n",
    "countries = ['bah','kuw','omn','qat','ksa','uae']"
   ]
  },
  {
   "cell_type": "code",
   "execution_count": null,
   "metadata": {},
   "outputs": [],
   "source": [
    "_fuel_cons_list = []\n",
    "_ELWAbld_xls_list = []\n",
    "_ELWAcap_list = []\n",
    "_ELWAsupELp_xls_list = []\n",
    "_WAcapSingle_list = []\n",
    "_RWELtrade_tot_list = []\n",
    "_RWEMallquant_list = []\n",
    "_Invest_list = []\n",
    "\n",
    "_RWELtrade_tot_dict ={}\n",
    "\n",
    "years = {'t01':'2015',\n",
    "         't02':'2016',\n",
    "         't03':'2017',\n",
    "         't04':'2018',\n",
    "         't05':'2019',\n",
    "         't06':'2020',\n",
    "         't07':'2021',\n",
    "         't08':'2022',\n",
    "         't09':'2023',\n",
    "         't10':'2024',\n",
    "         't11':'2025',\n",
    "         't12':'2026',\n",
    "         't13':'2027',\n",
    "         't14':'2028',\n",
    "         't15':'2029',\n",
    "         't16':'2030'}\n",
    "\n",
    "fuels = {'methane':'NG',\n",
    "         'arablight':'oil'}\n",
    "\n",
    "for filename, scenario in zip(files, scenarios):\n",
    "    \n",
    "    _dataframes = gdxpds.to_dataframes(filename)\n",
    "    \n",
    "    # fuel consumption\n",
    "    _fuel_cons = _dataframes['ELWAfcon_xls']\n",
    "    _fuel_cons.columns = ['c','trun','f','value']\n",
    "    _fuel_cons['scenario'] = scenario\n",
    "    #_fuel_cons = _fuel_cons.set_index(['scenario','c','trun','f'])\n",
    "    #_fuel_cons = _fuel_cons.pivot_table(values='Value',index=['scenario','c'],columns='f')\n",
    "    _fuel_cons = _fuel_cons.replace(years)\n",
    "    _fuel_cons = _fuel_cons.replace(fuels)\n",
    "    _fuel_cons_list.append(_fuel_cons)\n",
    "    \n",
    "    # Technology builds\n",
    "    _ELWAbld_xls = _dataframes['ELWAbld_xls']\n",
    "    _ELWAbld_xls.columns = ['c','trun','ELp','value']\n",
    "    _ELWAbld_xls['scenario'] = scenario\n",
    "    _ELWAbld_xls = _ELWAbld_xls.replace(years)\n",
    "    _ELWAbld_xls = _ELWAbld_xls.replace(fuels)\n",
    "    _ELWAbld_xls_list.append(_ELWAbld_xls)\n",
    "    \n",
    "    # Installed Capacity\n",
    "    _ELWAcap = _dataframes['ELWAcap']\n",
    "    _ELWAcap.columns = ['trun','c','ELp','sector','value']\n",
    "    _ELWAcap = _ELWAcap.drop(columns='sector')\n",
    "    _ELWAcap['scenario'] = scenario\n",
    "    _ELWAcap = _ELWAcap.replace(years)\n",
    "    _ELWAcap = _ELWAcap.replace(fuels)\n",
    "    #_ELWAcap = _ELWAcap.pivot_table(values='value',index=['scenario','c','trun'],columns='ELp')\n",
    "    _ELWAcap_list.append(_ELWAcap)\n",
    "\n",
    "    # Electricity Generation\n",
    "    _ELWAsupELp_xls = _dataframes['ELWAsupELp_xls']\n",
    "    _ELWAsupELp_xls.columns = ['trun','c','ELp','value']\n",
    "    _ELWAsupELp_xls['scenario'] = scenario\n",
    "    _ELWAsupELp_xls = _ELWAsupELp_xls.replace(years)\n",
    "    _ELWAsupELp_xls = _ELWAsupELp_xls.replace(fuels)\n",
    "    #_ELWAsupELp_xls = _ELWAsupELp_xls.pivot_table(values='value',index=['scenario','c','trun'],columns='ELp')\n",
    "    _ELWAsupELp_xls_list.append(_ELWAsupELp_xls)\n",
    "    \n",
    "    # Water capacity\n",
    "    _WAcapSingle = _dataframes['WAcapSingle']\n",
    "    _WAcapSingle.columns = ['trun','c','WAp','sector','value']\n",
    "    _WAcapSingle = _WAcapSingle.drop(columns='sector')\n",
    "    _WAcapSingle['scenario'] = scenario\n",
    "    _WAcapSingle = _WAcapSingle.replace(years)\n",
    "    _WAcapSingle = _WAcapSingle.replace(fuels)\n",
    "    _WAcapSingle_list.append(_WAcapSingle)\n",
    "    \n",
    "    ## Electrcitiy trade\n",
    "    #_RWELtrade_tot = _dataframes['RWELtrade_tot']\n",
    "    #_RWELtrade_tot.columns = ['trun','c','cc','value']\n",
    "    #_RWELtrade_tot['scenario'] = scenario\n",
    "    #_RWELtrade_tot = _RWELtrade_tot.replace(years)\n",
    "    #\n",
    "    #_RWELtrade_tot = _RWELtrade_tot.set_index(['scenario','c','trun','cc'])\n",
    "    #_RWELtrade_tot = _RWELtrade_tot.pivot_table(values='value',index=['scenario','c'],columns='cc')\n",
    "    #_RWELtrade_tot_dict[scenario] = _RWELtrade_tot\n",
    "    \n",
    "    # CO2 emissions\n",
    "    _RWEMallquant = _dataframes['RWEMallquant']\n",
    "    _RWEMallquant.columns = ['trun','c','value']\n",
    "    _RWEMallquant['scenario'] = scenario \n",
    "    _RWEMallquant = _RWEMallquant.replace(years)\n",
    "    _RWEMallquant_list.append(_RWEMallquant)\n",
    "    \n",
    "    # Investments\n",
    "    _Invest = _dataframes['Invest']\n",
    "    _Invest.columns = ['trun','tech','sector','value']\n",
    "    _Invest['scenario'] = scenario\n",
    "    _Invest = _Invest.replace(years)\n",
    "    _Invest_list.append(_Invest)\n",
    "    \n",
    "\n",
    "fuel_cons_df = pd.concat(_fuel_cons_list)\n",
    "#fuel_cons_df.info()\n",
    "\n",
    "ELWAbld_xls_df = pd.concat(_ELWAbld_xls_list)\n",
    "#ELWAbld_xls_df.info()\n",
    "\n",
    "_ELWAcap_df = pd.concat(_ELWAcap_list)\n",
    "#_ELWAcap_df.info()\n",
    "\n",
    "_ELWAsupELp_xls_df = pd.concat(_ELWAsupELp_xls_list)\n",
    "#_ELWAsupELp_xls_df.info()\n",
    "\n",
    "_WAcapSingle_df = pd.concat(_WAcapSingle_list)\n",
    "\n",
    "#_RWELtrade_tot_df = pd.concat(_RWELtrade_tot_list)\n",
    "\n",
    "_RWEMallquant_df = pd.concat(_RWEMallquant_list)\n",
    "\n",
    "_Invest_df = pd.concat(_Invest_list)\n"
   ]
  },
  {
   "cell_type": "markdown",
   "metadata": {},
   "source": [
    "### Plot Fuel Consumption"
   ]
  },
  {
   "cell_type": "code",
   "execution_count": null,
   "metadata": {},
   "outputs": [],
   "source": [
    "#fuel_cons_df[(fuel_cons_df['c']=='ksa') & \n",
    "#             (fuel_cons_df['scenario']=='01_REF') &\n",
    "#             (fuel_cons_df['f']=='methane')]"
   ]
  },
  {
   "cell_type": "code",
   "execution_count": null,
   "metadata": {},
   "outputs": [],
   "source": [
    "fig1a = px.line(fuel_cons_df, \n",
    "              x=\"trun\", \n",
    "              y=\"value\", \n",
    "              color=\"f\",\n",
    "              hover_name=\"value\",\n",
    "              line_shape=\"linear\", \n",
    "              render_mode=\"svg\", \n",
    "              facet_col=\"c\", \n",
    "              facet_col_wrap=0,\n",
    "              facet_row=\"scenario\",\n",
    "              title=\"Fuel consumption\",\n",
    "              category_orders = {'c':['bah','kuw','omn','qat','ksa','uae']},\n",
    "              width=1200, \n",
    "              height=800)\n",
    "\n",
    "fig1b = px.bar(fuel_cons_df, \n",
    "              x=\"trun\", \n",
    "              y=\"value\", \n",
    "              color=\"f\",\n",
    "              hover_name=\"value\",  \n",
    "              facet_col=\"c\", \n",
    "              facet_col_wrap=0,\n",
    "              facet_row=\"scenario\",\n",
    "              title=\"Fuel consumption\",\n",
    "              category_orders = {'c':['bah','kuw','omn','qat','ksa','uae']},\n",
    "              width=1200,\n",
    "              height=800)\n",
    "\n",
    "#fig1a.show()\n",
    "fig1b.show()"
   ]
  },
  {
   "cell_type": "markdown",
   "metadata": {},
   "source": [
    "### Plot Technology Builds"
   ]
  },
  {
   "cell_type": "code",
   "execution_count": null,
   "metadata": {},
   "outputs": [],
   "source": [
    "fig2 = px.bar(ELWAbld_xls_df,\n",
    "              x=\"trun\",\n",
    "              y=\"value\",\n",
    "              color=\"ELp\",\n",
    "              facet_row=\"scenario\",\n",
    "              facet_col=\"c\",\n",
    "              category_orders = {'c':['bah','kuw','omn','qat','ksa','uae']},\n",
    "              width=1200,\n",
    "              height=800)\n",
    "fig2.show()"
   ]
  },
  {
   "cell_type": "markdown",
   "metadata": {},
   "source": [
    "### Plot Capacity"
   ]
  },
  {
   "cell_type": "code",
   "execution_count": null,
   "metadata": {},
   "outputs": [],
   "source": [
    "_ELWAcap_df.head()"
   ]
  },
  {
   "cell_type": "code",
   "execution_count": null,
   "metadata": {},
   "outputs": [],
   "source": [
    "fig3 = px.bar(_ELWAcap_df,\n",
    "              x=\"trun\",\n",
    "              y=\"value\",\n",
    "              color=\"ELp\",\n",
    "              facet_row=\"scenario\",\n",
    "              facet_col=\"c\",\n",
    "              category_orders = {'c':['bah','kuw','omn','qat','ksa','uae']},\n",
    "              width=1200,\n",
    "              height=800\n",
    "             )\n",
    "fig3.show()"
   ]
  },
  {
   "cell_type": "code",
   "execution_count": null,
   "metadata": {},
   "outputs": [],
   "source": [
    "fig4 = px.bar(_WAcapSingle_df,\n",
    "              x=\"trun\",\n",
    "              y=\"value\",\n",
    "              color=\"WAp\",\n",
    "              facet_row=\"scenario\",\n",
    "              facet_col=\"c\",\n",
    "              category_orders = {'c':['bah','kuw','omn','qat','ksa','uae']},\n",
    "              width=1200,\n",
    "              height=800\n",
    "             )\n",
    "fig4.show()"
   ]
  },
  {
   "cell_type": "markdown",
   "metadata": {},
   "source": [
    "### Plot Electricity Production"
   ]
  },
  {
   "cell_type": "code",
   "execution_count": null,
   "metadata": {},
   "outputs": [],
   "source": [
    "_ELWAsupELp_xls_df.head()"
   ]
  },
  {
   "cell_type": "code",
   "execution_count": null,
   "metadata": {},
   "outputs": [],
   "source": [
    "fig5 = px.bar(_ELWAsupELp_xls_df, \n",
    "              x=\"trun\", \n",
    "              y=\"value\", \n",
    "              color=\"ELp\",\n",
    "              hover_name=\"value\", \n",
    "              facet_col=\"c\",\n",
    "              facet_row=\"scenario\",\n",
    "              title=\"Electricity production\",\n",
    "              category_orders = {'c':['bah','kuw','omn','qat','ksa','uae']},\n",
    "              width=1200,\n",
    "              height=800\n",
    "              )\n",
    "fig5.show()"
   ]
  },
  {
   "cell_type": "markdown",
   "metadata": {},
   "source": [
    "### Electricity trade"
   ]
  },
  {
   "cell_type": "code",
   "execution_count": null,
   "metadata": {},
   "outputs": [],
   "source": [
    "#fig6 = px.parallel_categories(_RWELtrade_tot_df, color=\"value\", color_continuous_scale=px.colors.sequential.Inferno)\n",
    "#fig6.show()\n",
    "\n",
    "for scenario in scenarios:\n",
    "    _trade_table = _RWELtrade_tot_dict[scenario]\n",
    "    display(_trade_table)"
   ]
  },
  {
   "cell_type": "markdown",
   "metadata": {},
   "source": [
    "### CO2 emissions"
   ]
  },
  {
   "cell_type": "code",
   "execution_count": null,
   "metadata": {},
   "outputs": [],
   "source": [
    "_RWEMallquant_df.info()"
   ]
  },
  {
   "cell_type": "code",
   "execution_count": null,
   "metadata": {},
   "outputs": [],
   "source": [
    "fig7a = px.line(b,\n",
    "               x='trun',\n",
    "               y='value',\n",
    "               color='scenario',\n",
    "               line_group='c')\n",
    "fig7a.show()"
   ]
  },
  {
   "cell_type": "code",
   "execution_count": null,
   "metadata": {},
   "outputs": [],
   "source": [
    "fig7 = px.bar(_RWEMallquant_df, \n",
    "              x=\"trun\", \n",
    "              y=\"value\", \n",
    "              color=\"c\",\n",
    "              hover_name=\"value\", \n",
    "              facet_row=\"scenario\",\n",
    "              title=\"CO2 emissions\",\n",
    "              width=1200,\n",
    "              height=800\n",
    "              )\n",
    "fig7.show()"
   ]
  },
  {
   "cell_type": "code",
   "execution_count": null,
   "metadata": {},
   "outputs": [],
   "source": [
    "RWEMallquant_policy = _RWEMallquant_df.set_index(['scenario','c','trun'])\n",
    "RWEMallquant_policy = RWEMallquant_policy.pivot_table(values='value',index=['scenario','trun'])\n",
    "display(RWEMallquant_policy)"
   ]
  },
  {
   "cell_type": "code",
   "execution_count": null,
   "metadata": {},
   "outputs": [],
   "source": [
    "RWEMallquant_policy.loc['01_REF']"
   ]
  },
  {
   "cell_type": "code",
   "execution_count": null,
   "metadata": {},
   "outputs": [],
   "source": [
    "### read in Cost Calc GDX files"
   ]
  },
  {
   "cell_type": "code",
   "execution_count": null,
   "metadata": {},
   "outputs": [],
   "source": [
    "files = glob.glob('../results/for-post/results_cost*.gdx')\n",
    "\n",
    "files = ['../results/for-post/results_cost_calcs_01_REF.gdx',\n",
    "         '../results/for-post/results_cost_calcs_02_SUB.gdx',\n",
    "         #'../results/for-post/results_03_EXG.gdx',\n",
    "         '../results/for-post/results_cost_calcs_03_EXGb.gdx']\n",
    "\n",
    "scenarios = ['01_REF','02_SUB','03_EXGb']\n",
    "\n",
    "_RWcostcalcs_dict = {}\n",
    "\n",
    "for filename, scenario in zip(files, scenarios):\n",
    "    _dataframes = gdxpds.to_dataframes(filename)\n",
    "\n",
    "    _RWcostcalcs = _dataframes['RWcostcalcs']\n",
    "    _RWcostcalcs.columns = ['trun','type','c','value']\n",
    "    _RWcostcalcs['scenario'] = scenario\n",
    "    _RWcostcalcs = _RWcostcalcs.set_index(['scenario','c','trun','type'])\n",
    "    _RWcostcalcs = _RWcostcalcs.pivot_table(values='value',index=['scenario','type'],columns='c')\n",
    "    _RWcostcalcs_dict[scenario] = _RWcostcalcs\n",
    "\n",
    "for scenario in scenarios:\n",
    "    _cost_table = _RWcostcalcs_dict[scenario]\n",
    "    display(_cost_table)\n",
    "\n"
   ]
  },
  {
   "cell_type": "markdown",
   "metadata": {},
   "source": [
    "### Investments"
   ]
  },
  {
   "cell_type": "code",
   "execution_count": null,
   "metadata": {},
   "outputs": [],
   "source": [
    "_Invest_df.groupby(by='scenario',axis=1)"
   ]
  },
  {
   "cell_type": "code",
   "execution_count": null,
   "metadata": {},
   "outputs": [],
   "source": [
    "fig7.write_image(\"fig7.png\")"
   ]
  },
  {
   "cell_type": "code",
   "execution_count": null,
   "metadata": {},
   "outputs": [],
   "source": []
  }
 ],
 "metadata": {
  "kernelspec": {
   "display_name": "Python 3",
   "language": "python",
   "name": "python3"
  },
  "language_info": {
   "codemirror_mode": {
    "name": "ipython",
    "version": 3
   },
   "file_extension": ".py",
   "mimetype": "text/x-python",
   "name": "python",
   "nbconvert_exporter": "python",
   "pygments_lexer": "ipython3",
   "version": "3.6.7"
  }
 },
 "nbformat": 4,
 "nbformat_minor": 4
}
