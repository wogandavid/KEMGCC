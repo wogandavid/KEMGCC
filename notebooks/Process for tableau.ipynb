{
 "cells": [
  {
   "cell_type": "code",
   "execution_count": null,
   "metadata": {},
   "outputs": [],
   "source": [
    "import matplotlib.pyplot as plt\n",
    "import numpy as np\n",
    "import gdxpds\n",
    "import pandas as pd\n",
    "import glob\n",
    "import seaborn as sns"
   ]
  },
  {
   "cell_type": "code",
   "execution_count": null,
   "metadata": {},
   "outputs": [],
   "source": [
    "sns.set(font_scale=1.3)"
   ]
  },
  {
   "cell_type": "code",
   "execution_count": null,
   "metadata": {},
   "outputs": [],
   "source": [
    "%matplotlib inline"
   ]
  },
  {
   "cell_type": "code",
   "execution_count": null,
   "metadata": {},
   "outputs": [],
   "source": [
    "#files = glob.glob('../results/for-post/results_0*.gdx')\n",
    "files = ['../results/for-post/results_A.gdx',\n",
    "         '../results/for-post/results_B.gdx',\n",
    "         '../results/for-post/results_C.gdx',\n",
    "         '../results/for-post/results_D.gdx',\n",
    "         '../results/for-post/results_E.gdx',\n",
    "         '../results/for-post/results_F.gdx',\n",
    "         '../results/for-post/results_G.gdx',\n",
    "         '../results/for-post/results_H.gdx']"
   ]
  },
  {
   "cell_type": "code",
   "execution_count": null,
   "metadata": {},
   "outputs": [],
   "source": [
    "scenarios = ['A','B','C','D','E','F','G','H']\n",
    "countries = ['bah','kuw','omn','qat','ksa','uae']"
   ]
  },
  {
   "cell_type": "code",
   "execution_count": null,
   "metadata": {},
   "outputs": [],
   "source": [
    "_fuel_cons_list = []\n",
    "_ELWAbld_xls_list = []\n",
    "_ELWAcap_list = []\n",
    "_ELWAsupELp_xls_list = []\n",
    "_WAcapSingle_list = []\n",
    "_RWELtrade_tot_list = []\n",
    "_RWEMallquant_list = []\n",
    "_Invest_list = []\n",
    "\n",
    "_RWELtrade_tot_dict ={}\n",
    "\n",
    "years = {'t01':'2015',\n",
    "         't02':'2016',\n",
    "         't03':'2017',\n",
    "         't04':'2018',\n",
    "         't05':'2019',\n",
    "         't06':'2020',\n",
    "         't07':'2021',\n",
    "         't08':'2022',\n",
    "         't09':'2023',\n",
    "         't10':'2024',\n",
    "         't11':'2025',\n",
    "         't12':'2026',\n",
    "         't13':'2027',\n",
    "         't14':'2028',\n",
    "         't15':'2029',\n",
    "         't16':'2030'}\n",
    "\n",
    "fuels = {'methane':'NG',\n",
    "         'arablight':'oil'}\n",
    "\n",
    "for filename, scenario in zip(files, scenarios):\n",
    "    \n",
    "    _dataframes = gdxpds.to_dataframes(filename)\n",
    "    \n",
    "    # fuel consumption\n",
    "    _fuel_cons = _dataframes['ELWAfcon_xls']\n",
    "    _fuel_cons.columns = ['c','trun','f','value']\n",
    "    _fuel_cons['scenario'] = scenario\n",
    "    #_fuel_cons = _fuel_cons.set_index(['scenario','c','trun','f'])\n",
    "    #_fuel_cons = _fuel_cons.pivot_table(values='Value',index=['scenario','c'],columns='f')\n",
    "    _fuel_cons = _fuel_cons.replace(years)\n",
    "    _fuel_cons = _fuel_cons.replace(fuels)\n",
    "    _fuel_cons_list.append(_fuel_cons)\n",
    "    \n",
    "    # Technology builds\n",
    "    _ELWAbld_xls = _dataframes['ELWAbld_xls']\n",
    "    _ELWAbld_xls.columns = ['c','trun','ELp','value']\n",
    "    _ELWAbld_xls['scenario'] = scenario\n",
    "    _ELWAbld_xls = _ELWAbld_xls.replace(years)\n",
    "    _ELWAbld_xls = _ELWAbld_xls.replace(fuels)\n",
    "    _ELWAbld_xls_list.append(_ELWAbld_xls)\n",
    "    \n",
    "    # Installed Capacity\n",
    "    _ELWAcap = _dataframes['ELWAcap']\n",
    "    _ELWAcap.columns = ['trun','c','ELp','sector','value']\n",
    "    _ELWAcap = _ELWAcap.drop(columns='sector')\n",
    "    _ELWAcap['scenario'] = scenario\n",
    "    _ELWAcap = _ELWAcap.replace(years)\n",
    "    _ELWAcap = _ELWAcap.replace(fuels)\n",
    "    #_ELWAcap = _ELWAcap.pivot_table(values='value',index=['scenario','c','trun'],columns='ELp')\n",
    "    _ELWAcap_list.append(_ELWAcap)\n",
    "\n",
    "    # Electricity Generation\n",
    "    _ELWAsupELp_xls = _dataframes['ELWAsupELp_xls']\n",
    "    _ELWAsupELp_xls.columns = ['trun','c','ELp','value']\n",
    "    _ELWAsupELp_xls['scenario'] = scenario\n",
    "    _ELWAsupELp_xls = _ELWAsupELp_xls.replace(years)\n",
    "    _ELWAsupELp_xls = _ELWAsupELp_xls.replace(fuels)\n",
    "    #_ELWAsupELp_xls = _ELWAsupELp_xls.pivot_table(values='value',index=['scenario','c','trun'],columns='ELp')\n",
    "    _ELWAsupELp_xls_list.append(_ELWAsupELp_xls)\n",
    "    \n",
    "    # Water capacity\n",
    "    _WAcapSingle = _dataframes['WAcapSingle']\n",
    "    _WAcapSingle.columns = ['trun','c','WAp','sector','value']\n",
    "    _WAcapSingle = _WAcapSingle.drop(columns='sector')\n",
    "    _WAcapSingle['scenario'] = scenario\n",
    "    _WAcapSingle = _WAcapSingle.replace(years)\n",
    "    _WAcapSingle = _WAcapSingle.replace(fuels)\n",
    "    _WAcapSingle_list.append(_WAcapSingle)\n",
    "    \n",
    "    # Electrcitiy trade\n",
    "    _RWELtrade_tot = _dataframes['RWELtrade_tot']\n",
    "    _RWELtrade_tot.columns = ['trun','c','cc','value']\n",
    "    _RWELtrade_tot['scenario'] = scenario\n",
    "    _RWELtrade_tot = _RWELtrade_tot.replace(years)\n",
    "    \n",
    "    #_RWELtrade_tot = _RWELtrade_tot.set_index(['scenario','c','trun','cc'])\n",
    "    #_RWELtrade_tot = _RWELtrade_tot.pivot_table(values='value',index=['scenario','c'],columns='cc')\n",
    "    #_RWELtrade_tot_dict[scenario] = _RWELtrade_tot\n",
    "    _RWELtrade_tot_list.append(_RWELtrade_tot)\n",
    "    \n",
    "    # CO2 emissions\n",
    "    _RWEMallquant = _dataframes['RWEMallquant']\n",
    "    _RWEMallquant.columns = ['trun','c','value']\n",
    "    _RWEMallquant['scenario'] = scenario \n",
    "    _RWEMallquant = _RWEMallquant.replace(years)\n",
    "    _RWEMallquant_list.append(_RWEMallquant)\n",
    "    \n",
    "    # Investments\n",
    "    _Invest = _dataframes['Invest']\n",
    "    _Invest.columns = ['trun','tech','sector','value']\n",
    "    _Invest['scenario'] = scenario\n",
    "    _Invest = _Invest.replace(years)\n",
    "    _Invest_list.append(_Invest)\n",
    "    \n",
    "\n",
    "fuel_cons_df = pd.concat(_fuel_cons_list)\n",
    "#fuel_cons_df.info()\n",
    "\n",
    "ELWAbld_xls_df = pd.concat(_ELWAbld_xls_list)\n",
    "#ELWAbld_xls_df.info()\n",
    "\n",
    "_ELWAcap_df = pd.concat(_ELWAcap_list)\n",
    "#_ELWAcap_df.info()\n",
    "\n",
    "_ELWAsupELp_xls_df = pd.concat(_ELWAsupELp_xls_list)\n",
    "#_ELWAsupELp_xls_df.info()\n",
    "\n",
    "_WAcapSingle_df = pd.concat(_WAcapSingle_list)\n",
    "\n",
    "_RWELtrade_tot_df = pd.concat(_RWELtrade_tot_list)\n",
    "\n",
    "_RWEMallquant_df = pd.concat(_RWEMallquant_list)\n",
    "\n",
    "_Invest_df = pd.concat(_Invest_list)\n",
    "\n"
   ]
  },
  {
   "cell_type": "code",
   "execution_count": null,
   "metadata": {},
   "outputs": [],
   "source": [
    "fuel_cons_df.head()"
   ]
  },
  {
   "cell_type": "code",
   "execution_count": null,
   "metadata": {},
   "outputs": [],
   "source": [
    "fuel_cons_df.info()"
   ]
  },
  {
   "cell_type": "code",
   "execution_count": null,
   "metadata": {},
   "outputs": [],
   "source": [
    "fuel_cons_df = fuel_cons_df.astype({\"trun\": int})\n",
    "_ELWAcap_df = _ELWAcap_df.astype({\"trun\": int})\n",
    "ELWAbld_xls_df = ELWAbld_xls_df.astype({\"trun\": int})\n",
    "_ELWAsupELp_xls_df = _ELWAsupELp_xls_df.astype({\"trun\": int})\n",
    "_RWEMallquant_df = _RWEMallquant_df.astype({\"trun\": int})\n",
    "_Invest_df = _Invest_df.astype({\"trun\": int})\n",
    "\n",
    "_RWELtrade_tot_df = _RWELtrade_tot_df.astype({\"trun\": int})"
   ]
  },
  {
   "cell_type": "code",
   "execution_count": null,
   "metadata": {},
   "outputs": [],
   "source": [
    "fuel_cons_df.to_csv('../tableau/fuel_cons.csv', index=False)\n",
    "\n",
    "_ELWAcap_df.to_csv('../tableau/capacity.csv', index=False)\n",
    "\n",
    "ELWAbld_xls_df.to_csv('../tableau/builds.csv', index=False)\n",
    "\n",
    "_ELWAsupELp_xls_df.to_csv('../tableau/Elsup.csv', index=False)\n",
    "\n",
    "_RWEMallquant_df.to_csv('../tableau/emissions.csv', index=False)\n",
    "\n",
    "_Invest_df.to_csv('../tableau/investments.csv', index=False)\n",
    "\n",
    "_RWELtrade_tot_df.to_csv('../tableau/trade.csv', index=False)"
   ]
  },
  {
   "cell_type": "markdown",
   "metadata": {},
   "source": [
    "# ----"
   ]
  },
  {
   "cell_type": "code",
   "execution_count": null,
   "metadata": {},
   "outputs": [],
   "source": []
  },
  {
   "cell_type": "code",
   "execution_count": null,
   "metadata": {},
   "outputs": [],
   "source": []
  },
  {
   "cell_type": "code",
   "execution_count": null,
   "metadata": {},
   "outputs": [],
   "source": [
    "fuel_cons_df['trun'].unique()"
   ]
  },
  {
   "cell_type": "code",
   "execution_count": null,
   "metadata": {},
   "outputs": [],
   "source": [
    "tips = sns.load_dataset(\"tips\")"
   ]
  },
  {
   "cell_type": "code",
   "execution_count": null,
   "metadata": {},
   "outputs": [],
   "source": [
    "tips.info()"
   ]
  },
  {
   "cell_type": "code",
   "execution_count": null,
   "metadata": {},
   "outputs": [],
   "source": [
    "with sns.axes_style(\"white\"):\n",
    "    g = sns.FacetGrid(tips, row=\"sex\", col=\"smoker\", margin_titles=True, height=2.5)\n",
    "g.map(plt.scatter, \"total_bill\", \"tip\", color=\"#334488\", edgecolor=\"white\", lw=.5);\n",
    "g.set_axis_labels(\"Total bill (US Dollars)\", \"Tip\");\n",
    "g.set(xticks=[1, 8, 13], yticks=[2, 6, 10]);\n",
    "g.fig.subplots_adjust(wspace=.02, hspace=.02);\n",
    "g.savefig(\"../results/smokers.png\")"
   ]
  },
  {
   "cell_type": "markdown",
   "metadata": {},
   "source": [
    "#### Fuel consumption"
   ]
  },
  {
   "cell_type": "code",
   "execution_count": null,
   "metadata": {},
   "outputs": [],
   "source": [
    "_x.loc[('H','ksa')]"
   ]
  },
  {
   "cell_type": "code",
   "execution_count": null,
   "metadata": {},
   "outputs": [],
   "source": [
    "fuel_cons_df.head()"
   ]
  },
  {
   "cell_type": "code",
   "execution_count": null,
   "metadata": {},
   "outputs": [],
   "source": [
    "_a = fuel_cons_df.pivot_table(index=['scenario','c','trun'],columns='f',values='value')\n",
    "_a = _a.reset_index()\n",
    "_a"
   ]
  },
  {
   "cell_type": "code",
   "execution_count": null,
   "metadata": {},
   "outputs": [],
   "source": [
    "plt.style.use('tableau-colorblind10')\n",
    "\n",
    "fig, axes = plt.subplots(nrows=8, ncols=6, sharex=False, sharey=False, figsize=(12,8))\n",
    "\n",
    "for ax,num in zip(axes.flatten(),range(1,49)):\n",
    "    #print(ax)\n",
    "    for scenario in scenarios:\n",
    "        #print('Creating plot for %s...' %scenario)\n",
    "        for country in countries:\n",
    "            #print('Creating plot for %s...' %country)\n",
    "            _b = _a[(_a['scenario']==scenario) & (_a['c']==country)]\n",
    "            _b.plot()\n",
    "            #print(_b)\n",
    "            #for column in _b.drop(['scenario','c','trun'],axis=1):\n",
    "             #   _b.plot(x=_b['trun'],y=_b[column],ax=ax)\n",
    "                #ax.plot(_b['trun'],_b[column])\n",
    "                #ax.set_title(num)\n",
    "                #ax.set_ylabel()"
   ]
  },
  {
   "cell_type": "code",
   "execution_count": null,
   "metadata": {},
   "outputs": [],
   "source": []
  }
 ],
 "metadata": {
  "kernelspec": {
   "display_name": "Python 3",
   "language": "python",
   "name": "python3"
  },
  "language_info": {
   "codemirror_mode": {
    "name": "ipython",
    "version": 3
   },
   "file_extension": ".py",
   "mimetype": "text/x-python",
   "name": "python",
   "nbconvert_exporter": "python",
   "pygments_lexer": "ipython3",
   "version": "3.6.7"
  }
 },
 "nbformat": 4,
 "nbformat_minor": 4
}
